{
 "metadata": {
  "language_info": {
   "codemirror_mode": {
    "name": "ipython",
    "version": 3
   },
   "file_extension": ".py",
   "mimetype": "text/x-python",
   "name": "python",
   "nbconvert_exporter": "python",
   "pygments_lexer": "ipython3",
   "version": "3.8.3-final"
  },
  "orig_nbformat": 2,
  "kernelspec": {
   "name": "python3",
   "display_name": "Python 3.8.3 32-bit",
   "metadata": {
    "interpreter": {
     "hash": "ff84bf1591beed5d74e6f2f4a403fa7591b261081a9943adcc89de2aa0542428"
    }
   }
  }
 },
 "nbformat": 4,
 "nbformat_minor": 2,
 "cells": [
  {
   "cell_type": "code",
   "execution_count": 1,
   "metadata": {},
   "outputs": [],
   "source": [
    "import pandas as pd"
   ]
  },
  {
   "cell_type": "code",
   "execution_count": 5,
   "metadata": {},
   "outputs": [
    {
     "output_type": "execute_result",
     "data": {
      "text/plain": [
       "   ID           Subject  Marks Result\n",
       "0   1              Math     90   Pass\n",
       "1   1              Math     50   Pass\n",
       "2   2  Computer Science     32   Fail\n",
       "3   2  Computer Science     30   Fail\n",
       "4   3              Math      0   Fail"
      ],
      "text/html": "<div>\n<style scoped>\n    .dataframe tbody tr th:only-of-type {\n        vertical-align: middle;\n    }\n\n    .dataframe tbody tr th {\n        vertical-align: top;\n    }\n\n    .dataframe thead th {\n        text-align: right;\n    }\n</style>\n<table border=\"1\" class=\"dataframe\">\n  <thead>\n    <tr style=\"text-align: right;\">\n      <th></th>\n      <th>ID</th>\n      <th>Subject</th>\n      <th>Marks</th>\n      <th>Result</th>\n    </tr>\n  </thead>\n  <tbody>\n    <tr>\n      <th>0</th>\n      <td>1</td>\n      <td>Math</td>\n      <td>90</td>\n      <td>Pass</td>\n    </tr>\n    <tr>\n      <th>1</th>\n      <td>1</td>\n      <td>Math</td>\n      <td>50</td>\n      <td>Pass</td>\n    </tr>\n    <tr>\n      <th>2</th>\n      <td>2</td>\n      <td>Computer Science</td>\n      <td>32</td>\n      <td>Fail</td>\n    </tr>\n    <tr>\n      <th>3</th>\n      <td>2</td>\n      <td>Computer Science</td>\n      <td>30</td>\n      <td>Fail</td>\n    </tr>\n    <tr>\n      <th>4</th>\n      <td>3</td>\n      <td>Math</td>\n      <td>0</td>\n      <td>Fail</td>\n    </tr>\n  </tbody>\n</table>\n</div>"
     },
     "metadata": {},
     "execution_count": 5
    }
   ],
   "source": [
    "df=pd.read_excel(r'C:/Users/sagar/Sample.xls',sheet_name='Marks')\n",
    "df"
   ]
  },
  {
   "cell_type": "code",
   "execution_count": 6,
   "metadata": {},
   "outputs": [
    {
     "output_type": "execute_result",
     "data": {
      "text/plain": [
       "{'Info':    ID   Name  Age Country\n",
       " 0   1    Joe   23   India\n",
       " 1   1   John   19     USA\n",
       " 2   2  James   38     USA\n",
       " 3   2    Kim   15      UK\n",
       " 4   3   Dani   20   India,\n",
       " 'Marks':    ID           Subject  Marks Result\n",
       " 0   1              Math     90   Pass\n",
       " 1   1              Math     50   Pass\n",
       " 2   2  Computer Science     32   Fail\n",
       " 3   2  Computer Science     30   Fail\n",
       " 4   3              Math      0   Fail}"
      ]
     },
     "metadata": {},
     "execution_count": 6
    }
   ],
   "source": [
    "df=pd.read_excel(r'C:/Users/sagar/Sample.xls',sheet_name=['Info','Marks'])\n",
    "df"
   ]
  },
  {
   "cell_type": "code",
   "execution_count": 9,
   "metadata": {},
   "outputs": [
    {
     "output_type": "execute_result",
     "data": {
      "text/plain": [
       "       ID  Age Country\n",
       "Name                  \n",
       "Joe     1   23   India\n",
       "John    1   19     USA\n",
       "James   2   38     USA\n",
       "Kim     2   15      UK\n",
       "Dani    3   20   India"
      ],
      "text/html": "<div>\n<style scoped>\n    .dataframe tbody tr th:only-of-type {\n        vertical-align: middle;\n    }\n\n    .dataframe tbody tr th {\n        vertical-align: top;\n    }\n\n    .dataframe thead th {\n        text-align: right;\n    }\n</style>\n<table border=\"1\" class=\"dataframe\">\n  <thead>\n    <tr style=\"text-align: right;\">\n      <th></th>\n      <th>ID</th>\n      <th>Age</th>\n      <th>Country</th>\n    </tr>\n    <tr>\n      <th>Name</th>\n      <th></th>\n      <th></th>\n      <th></th>\n    </tr>\n  </thead>\n  <tbody>\n    <tr>\n      <th>Joe</th>\n      <td>1</td>\n      <td>23</td>\n      <td>India</td>\n    </tr>\n    <tr>\n      <th>John</th>\n      <td>1</td>\n      <td>19</td>\n      <td>USA</td>\n    </tr>\n    <tr>\n      <th>James</th>\n      <td>2</td>\n      <td>38</td>\n      <td>USA</td>\n    </tr>\n    <tr>\n      <th>Kim</th>\n      <td>2</td>\n      <td>15</td>\n      <td>UK</td>\n    </tr>\n    <tr>\n      <th>Dani</th>\n      <td>3</td>\n      <td>20</td>\n      <td>India</td>\n    </tr>\n  </tbody>\n</table>\n</div>"
     },
     "metadata": {},
     "execution_count": 9
    }
   ],
   "source": [
    "df=pd.read_excel(r'C:/Users/sagar/Sample.xls',index_col=1)\n",
    "df"
   ]
  },
  {
   "cell_type": "code",
   "execution_count": 11,
   "metadata": {},
   "outputs": [
    {
     "output_type": "execute_result",
     "data": {
      "text/plain": [
       "       Name_New  Age_New Counrty_New\n",
       "ID_New                              \n",
       "1           Joe       23       India\n",
       "1          John       19         USA\n",
       "2         James       38         USA\n",
       "2           Kim       15          UK\n",
       "3          Dani       20       India"
      ],
      "text/html": "<div>\n<style scoped>\n    .dataframe tbody tr th:only-of-type {\n        vertical-align: middle;\n    }\n\n    .dataframe tbody tr th {\n        vertical-align: top;\n    }\n\n    .dataframe thead th {\n        text-align: right;\n    }\n</style>\n<table border=\"1\" class=\"dataframe\">\n  <thead>\n    <tr style=\"text-align: right;\">\n      <th></th>\n      <th>Name_New</th>\n      <th>Age_New</th>\n      <th>Counrty_New</th>\n    </tr>\n    <tr>\n      <th>ID_New</th>\n      <th></th>\n      <th></th>\n      <th></th>\n    </tr>\n  </thead>\n  <tbody>\n    <tr>\n      <th>1</th>\n      <td>Joe</td>\n      <td>23</td>\n      <td>India</td>\n    </tr>\n    <tr>\n      <th>1</th>\n      <td>John</td>\n      <td>19</td>\n      <td>USA</td>\n    </tr>\n    <tr>\n      <th>2</th>\n      <td>James</td>\n      <td>38</td>\n      <td>USA</td>\n    </tr>\n    <tr>\n      <th>2</th>\n      <td>Kim</td>\n      <td>15</td>\n      <td>UK</td>\n    </tr>\n    <tr>\n      <th>3</th>\n      <td>Dani</td>\n      <td>20</td>\n      <td>India</td>\n    </tr>\n  </tbody>\n</table>\n</div>"
     },
     "metadata": {},
     "execution_count": 11
    }
   ],
   "source": [
    "df=pd.read_excel(r'C:/Users/sagar/Sample.xls',index_col=0,names=['ID_New','Name_New','Age_New','Counrty_New'])\n",
    "df"
   ]
  },
  {
   "cell_type": "code",
   "execution_count": 12,
   "metadata": {},
   "outputs": [
    {
     "output_type": "execute_result",
     "data": {
      "text/plain": [
       "     Name\n",
       "ID       \n",
       "1     Joe\n",
       "1    John\n",
       "2   James\n",
       "2     Kim\n",
       "3    Dani"
      ],
      "text/html": "<div>\n<style scoped>\n    .dataframe tbody tr th:only-of-type {\n        vertical-align: middle;\n    }\n\n    .dataframe tbody tr th {\n        vertical-align: top;\n    }\n\n    .dataframe thead th {\n        text-align: right;\n    }\n</style>\n<table border=\"1\" class=\"dataframe\">\n  <thead>\n    <tr style=\"text-align: right;\">\n      <th></th>\n      <th>Name</th>\n    </tr>\n    <tr>\n      <th>ID</th>\n      <th></th>\n    </tr>\n  </thead>\n  <tbody>\n    <tr>\n      <th>1</th>\n      <td>Joe</td>\n    </tr>\n    <tr>\n      <th>1</th>\n      <td>John</td>\n    </tr>\n    <tr>\n      <th>2</th>\n      <td>James</td>\n    </tr>\n    <tr>\n      <th>2</th>\n      <td>Kim</td>\n    </tr>\n    <tr>\n      <th>3</th>\n      <td>Dani</td>\n    </tr>\n  </tbody>\n</table>\n</div>"
     },
     "metadata": {},
     "execution_count": 12
    }
   ],
   "source": [
    "df=pd.read_excel(r'C:/Users/sagar/Sample.xls',index_col=0,usecols='A:B')\n",
    "df"
   ]
  },
  {
   "cell_type": "code",
   "execution_count": 14,
   "metadata": {},
   "outputs": [
    {
     "output_type": "execute_result",
     "data": {
      "text/plain": [
       "     Name\n",
       "ID       \n",
       "1     Joe\n",
       "1    John\n",
       "2   James"
      ],
      "text/html": "<div>\n<style scoped>\n    .dataframe tbody tr th:only-of-type {\n        vertical-align: middle;\n    }\n\n    .dataframe tbody tr th {\n        vertical-align: top;\n    }\n\n    .dataframe thead th {\n        text-align: right;\n    }\n</style>\n<table border=\"1\" class=\"dataframe\">\n  <thead>\n    <tr style=\"text-align: right;\">\n      <th></th>\n      <th>Name</th>\n    </tr>\n    <tr>\n      <th>ID</th>\n      <th></th>\n    </tr>\n  </thead>\n  <tbody>\n    <tr>\n      <th>1</th>\n      <td>Joe</td>\n    </tr>\n    <tr>\n      <th>1</th>\n      <td>John</td>\n    </tr>\n    <tr>\n      <th>2</th>\n      <td>James</td>\n    </tr>\n  </tbody>\n</table>\n</div>"
     },
     "metadata": {},
     "execution_count": 14
    }
   ],
   "source": [
    "\n",
    "df.head(3)"
   ]
  },
  {
   "cell_type": "code",
   "execution_count": 19,
   "metadata": {},
   "outputs": [
    {
     "output_type": "execute_result",
     "data": {
      "text/plain": [
       "       Name_New  Age_New Counrty_New xyz_new\n",
       "ID_New                                      \n",
       "1           Joe       23       India     NaN\n",
       "1          John       19         USA     NaN\n",
       "2         James       38         USA     NaN\n",
       "2           Kim       15          UK     NaN\n",
       "3          Dani       20       India     NaN"
      ],
      "text/html": "<div>\n<style scoped>\n    .dataframe tbody tr th:only-of-type {\n        vertical-align: middle;\n    }\n\n    .dataframe tbody tr th {\n        vertical-align: top;\n    }\n\n    .dataframe thead th {\n        text-align: right;\n    }\n</style>\n<table border=\"1\" class=\"dataframe\">\n  <thead>\n    <tr style=\"text-align: right;\">\n      <th></th>\n      <th>Name_New</th>\n      <th>Age_New</th>\n      <th>Counrty_New</th>\n      <th>xyz_new</th>\n    </tr>\n    <tr>\n      <th>ID_New</th>\n      <th></th>\n      <th></th>\n      <th></th>\n      <th></th>\n    </tr>\n  </thead>\n  <tbody>\n    <tr>\n      <th>1</th>\n      <td>Joe</td>\n      <td>23</td>\n      <td>India</td>\n      <td>NaN</td>\n    </tr>\n    <tr>\n      <th>1</th>\n      <td>John</td>\n      <td>19</td>\n      <td>USA</td>\n      <td>NaN</td>\n    </tr>\n    <tr>\n      <th>2</th>\n      <td>James</td>\n      <td>38</td>\n      <td>USA</td>\n      <td>NaN</td>\n    </tr>\n    <tr>\n      <th>2</th>\n      <td>Kim</td>\n      <td>15</td>\n      <td>UK</td>\n      <td>NaN</td>\n    </tr>\n    <tr>\n      <th>3</th>\n      <td>Dani</td>\n      <td>20</td>\n      <td>India</td>\n      <td>NaN</td>\n    </tr>\n  </tbody>\n</table>\n</div>"
     },
     "metadata": {},
     "execution_count": 19
    }
   ],
   "source": [
    "df=pd.read_excel(r'C:/Users/sagar/Sample.xls',index_col=0,usecols='A:E',names=['ID_New','Name_New','Age_New','Counrty_New','xyz_new'])\n",
    "df"
   ]
  },
  {
   "cell_type": "code",
   "execution_count": 21,
   "metadata": {},
   "outputs": [
    {
     "output_type": "execute_result",
     "data": {
      "text/plain": [
       "     Name  Age Country\n",
       "ID                    \n",
       "1     Joe   23   India\n",
       "1    John   19     USA\n",
       "2   James   38     USA\n",
       "2     Kim   15      UK\n",
       "3    Dani   20   India"
      ],
      "text/html": "<div>\n<style scoped>\n    .dataframe tbody tr th:only-of-type {\n        vertical-align: middle;\n    }\n\n    .dataframe tbody tr th {\n        vertical-align: top;\n    }\n\n    .dataframe thead th {\n        text-align: right;\n    }\n</style>\n<table border=\"1\" class=\"dataframe\">\n  <thead>\n    <tr style=\"text-align: right;\">\n      <th></th>\n      <th>Name</th>\n      <th>Age</th>\n      <th>Country</th>\n    </tr>\n    <tr>\n      <th>ID</th>\n      <th></th>\n      <th></th>\n      <th></th>\n    </tr>\n  </thead>\n  <tbody>\n    <tr>\n      <th>1</th>\n      <td>Joe</td>\n      <td>23</td>\n      <td>India</td>\n    </tr>\n    <tr>\n      <th>1</th>\n      <td>John</td>\n      <td>19</td>\n      <td>USA</td>\n    </tr>\n    <tr>\n      <th>2</th>\n      <td>James</td>\n      <td>38</td>\n      <td>USA</td>\n    </tr>\n    <tr>\n      <th>2</th>\n      <td>Kim</td>\n      <td>15</td>\n      <td>UK</td>\n    </tr>\n    <tr>\n      <th>3</th>\n      <td>Dani</td>\n      <td>20</td>\n      <td>India</td>\n    </tr>\n  </tbody>\n</table>\n</div>"
     },
     "metadata": {},
     "execution_count": 21
    }
   ],
   "source": [
    "df=pd.read_excel(r'C:/Users/sagar/Sample.xls',index_col=0,skiprows=0)\n",
    "df"
   ]
  }
 ]
}