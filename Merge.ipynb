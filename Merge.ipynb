{
 "metadata": {
  "language_info": {
   "codemirror_mode": {
    "name": "ipython",
    "version": 3
   },
   "file_extension": ".py",
   "mimetype": "text/x-python",
   "name": "python",
   "nbconvert_exporter": "python",
   "pygments_lexer": "ipython3",
   "version": "3.8.3-final"
  },
  "orig_nbformat": 2,
  "kernelspec": {
   "name": "python3",
   "display_name": "Python 3.8.3 32-bit",
   "metadata": {
    "interpreter": {
     "hash": "ff84bf1591beed5d74e6f2f4a403fa7591b261081a9943adcc89de2aa0542428"
    }
   }
  }
 },
 "nbformat": 4,
 "nbformat_minor": 2,
 "cells": [
  {
   "cell_type": "code",
   "execution_count": 19,
   "metadata": {},
   "outputs": [],
   "source": [
    "import pandas as pd"
   ]
  },
  {
   "cell_type": "code",
   "execution_count": 20,
   "metadata": {},
   "outputs": [
    {
     "output_type": "execute_result",
     "data": {
      "text/plain": [
       "   ID   Name  Age Country\n",
       "0   1    Joe   23   India\n",
       "1   1   John   19     USA\n",
       "2   2  James   38     USA\n",
       "3   2    Kim   15      UK\n",
       "4   3   Dani   20   India"
      ],
      "text/html": "<div>\n<style scoped>\n    .dataframe tbody tr th:only-of-type {\n        vertical-align: middle;\n    }\n\n    .dataframe tbody tr th {\n        vertical-align: top;\n    }\n\n    .dataframe thead th {\n        text-align: right;\n    }\n</style>\n<table border=\"1\" class=\"dataframe\">\n  <thead>\n    <tr style=\"text-align: right;\">\n      <th></th>\n      <th>ID</th>\n      <th>Name</th>\n      <th>Age</th>\n      <th>Country</th>\n    </tr>\n  </thead>\n  <tbody>\n    <tr>\n      <th>0</th>\n      <td>1</td>\n      <td>Joe</td>\n      <td>23</td>\n      <td>India</td>\n    </tr>\n    <tr>\n      <th>1</th>\n      <td>1</td>\n      <td>John</td>\n      <td>19</td>\n      <td>USA</td>\n    </tr>\n    <tr>\n      <th>2</th>\n      <td>2</td>\n      <td>James</td>\n      <td>38</td>\n      <td>USA</td>\n    </tr>\n    <tr>\n      <th>3</th>\n      <td>2</td>\n      <td>Kim</td>\n      <td>15</td>\n      <td>UK</td>\n    </tr>\n    <tr>\n      <th>4</th>\n      <td>3</td>\n      <td>Dani</td>\n      <td>20</td>\n      <td>India</td>\n    </tr>\n  </tbody>\n</table>\n</div>"
     },
     "metadata": {},
     "execution_count": 20
    }
   ],
   "source": [
    "df_info=pd.read_excel(r'C:/users/sagar/Sample.xls')\n",
    "df_info"
   ]
  },
  {
   "cell_type": "code",
   "execution_count": 21,
   "metadata": {},
   "outputs": [
    {
     "output_type": "execute_result",
     "data": {
      "text/plain": [
       "     Name  Age Country\n",
       "ID                    \n",
       "1     Joe   23   India\n",
       "1    John   19     USA\n",
       "2   James   38     USA\n",
       "2     Kim   15      UK\n",
       "3    Dani   20   India"
      ],
      "text/html": "<div>\n<style scoped>\n    .dataframe tbody tr th:only-of-type {\n        vertical-align: middle;\n    }\n\n    .dataframe tbody tr th {\n        vertical-align: top;\n    }\n\n    .dataframe thead th {\n        text-align: right;\n    }\n</style>\n<table border=\"1\" class=\"dataframe\">\n  <thead>\n    <tr style=\"text-align: right;\">\n      <th></th>\n      <th>Name</th>\n      <th>Age</th>\n      <th>Country</th>\n    </tr>\n    <tr>\n      <th>ID</th>\n      <th></th>\n      <th></th>\n      <th></th>\n    </tr>\n  </thead>\n  <tbody>\n    <tr>\n      <th>1</th>\n      <td>Joe</td>\n      <td>23</td>\n      <td>India</td>\n    </tr>\n    <tr>\n      <th>1</th>\n      <td>John</td>\n      <td>19</td>\n      <td>USA</td>\n    </tr>\n    <tr>\n      <th>2</th>\n      <td>James</td>\n      <td>38</td>\n      <td>USA</td>\n    </tr>\n    <tr>\n      <th>2</th>\n      <td>Kim</td>\n      <td>15</td>\n      <td>UK</td>\n    </tr>\n    <tr>\n      <th>3</th>\n      <td>Dani</td>\n      <td>20</td>\n      <td>India</td>\n    </tr>\n  </tbody>\n</table>\n</div>"
     },
     "metadata": {},
     "execution_count": 21
    }
   ],
   "source": [
    "df_info=pd.read_excel(r'C:/users/sagar/Sample.xls',index_col=0,usecols='A:D')\n",
    "df_info"
   ]
  },
  {
   "cell_type": "code",
   "execution_count": 22,
   "metadata": {},
   "outputs": [
    {
     "output_type": "execute_result",
     "data": {
      "text/plain": [
       "             Subject  Marks Result\n",
       "ID                                \n",
       "1               Math     90   Pass\n",
       "1               Math     50   Pass\n",
       "2   Computer Science     32   Fail\n",
       "2   Computer Science     30   Fail"
      ],
      "text/html": "<div>\n<style scoped>\n    .dataframe tbody tr th:only-of-type {\n        vertical-align: middle;\n    }\n\n    .dataframe tbody tr th {\n        vertical-align: top;\n    }\n\n    .dataframe thead th {\n        text-align: right;\n    }\n</style>\n<table border=\"1\" class=\"dataframe\">\n  <thead>\n    <tr style=\"text-align: right;\">\n      <th></th>\n      <th>Subject</th>\n      <th>Marks</th>\n      <th>Result</th>\n    </tr>\n    <tr>\n      <th>ID</th>\n      <th></th>\n      <th></th>\n      <th></th>\n    </tr>\n  </thead>\n  <tbody>\n    <tr>\n      <th>1</th>\n      <td>Math</td>\n      <td>90</td>\n      <td>Pass</td>\n    </tr>\n    <tr>\n      <th>1</th>\n      <td>Math</td>\n      <td>50</td>\n      <td>Pass</td>\n    </tr>\n    <tr>\n      <th>2</th>\n      <td>Computer Science</td>\n      <td>32</td>\n      <td>Fail</td>\n    </tr>\n    <tr>\n      <th>2</th>\n      <td>Computer Science</td>\n      <td>30</td>\n      <td>Fail</td>\n    </tr>\n  </tbody>\n</table>\n</div>"
     },
     "metadata": {},
     "execution_count": 22
    }
   ],
   "source": [
    "df_Marks=pd.read_excel(r'C:/users/sagar/Sample.xls',index_col=0,sheet_name=1)\n",
    "df_Marks"
   ]
  },
  {
   "cell_type": "code",
   "execution_count": 23,
   "metadata": {},
   "outputs": [
    {
     "output_type": "execute_result",
     "data": {
      "text/plain": [
       "     Name  Age Country           Subject  Marks Result\n",
       "ID                                                    \n",
       "1     Joe   23   India              Math     90   Pass\n",
       "1     Joe   23   India              Math     50   Pass\n",
       "1    John   19     USA              Math     90   Pass\n",
       "1    John   19     USA              Math     50   Pass\n",
       "2   James   38     USA  Computer Science     32   Fail\n",
       "2   James   38     USA  Computer Science     30   Fail\n",
       "2     Kim   15      UK  Computer Science     32   Fail\n",
       "2     Kim   15      UK  Computer Science     30   Fail"
      ],
      "text/html": "<div>\n<style scoped>\n    .dataframe tbody tr th:only-of-type {\n        vertical-align: middle;\n    }\n\n    .dataframe tbody tr th {\n        vertical-align: top;\n    }\n\n    .dataframe thead th {\n        text-align: right;\n    }\n</style>\n<table border=\"1\" class=\"dataframe\">\n  <thead>\n    <tr style=\"text-align: right;\">\n      <th></th>\n      <th>Name</th>\n      <th>Age</th>\n      <th>Country</th>\n      <th>Subject</th>\n      <th>Marks</th>\n      <th>Result</th>\n    </tr>\n    <tr>\n      <th>ID</th>\n      <th></th>\n      <th></th>\n      <th></th>\n      <th></th>\n      <th></th>\n      <th></th>\n    </tr>\n  </thead>\n  <tbody>\n    <tr>\n      <th>1</th>\n      <td>Joe</td>\n      <td>23</td>\n      <td>India</td>\n      <td>Math</td>\n      <td>90</td>\n      <td>Pass</td>\n    </tr>\n    <tr>\n      <th>1</th>\n      <td>Joe</td>\n      <td>23</td>\n      <td>India</td>\n      <td>Math</td>\n      <td>50</td>\n      <td>Pass</td>\n    </tr>\n    <tr>\n      <th>1</th>\n      <td>John</td>\n      <td>19</td>\n      <td>USA</td>\n      <td>Math</td>\n      <td>90</td>\n      <td>Pass</td>\n    </tr>\n    <tr>\n      <th>1</th>\n      <td>John</td>\n      <td>19</td>\n      <td>USA</td>\n      <td>Math</td>\n      <td>50</td>\n      <td>Pass</td>\n    </tr>\n    <tr>\n      <th>2</th>\n      <td>James</td>\n      <td>38</td>\n      <td>USA</td>\n      <td>Computer Science</td>\n      <td>32</td>\n      <td>Fail</td>\n    </tr>\n    <tr>\n      <th>2</th>\n      <td>James</td>\n      <td>38</td>\n      <td>USA</td>\n      <td>Computer Science</td>\n      <td>30</td>\n      <td>Fail</td>\n    </tr>\n    <tr>\n      <th>2</th>\n      <td>Kim</td>\n      <td>15</td>\n      <td>UK</td>\n      <td>Computer Science</td>\n      <td>32</td>\n      <td>Fail</td>\n    </tr>\n    <tr>\n      <th>2</th>\n      <td>Kim</td>\n      <td>15</td>\n      <td>UK</td>\n      <td>Computer Science</td>\n      <td>30</td>\n      <td>Fail</td>\n    </tr>\n  </tbody>\n</table>\n</div>"
     },
     "metadata": {},
     "execution_count": 23
    }
   ],
   "source": [
    "pd.merge(df_info,df_Marks,on='ID')"
   ]
  },
  {
   "cell_type": "code",
   "execution_count": 24,
   "metadata": {},
   "outputs": [
    {
     "output_type": "execute_result",
     "data": {
      "text/plain": [
       "     Name  Age Country           Subject  Marks Result\n",
       "ID                                                    \n",
       "1     Joe   23   India              Math   90.0   Pass\n",
       "1     Joe   23   India              Math   50.0   Pass\n",
       "1    John   19     USA              Math   90.0   Pass\n",
       "1    John   19     USA              Math   50.0   Pass\n",
       "2   James   38     USA  Computer Science   32.0   Fail\n",
       "2   James   38     USA  Computer Science   30.0   Fail\n",
       "2     Kim   15      UK  Computer Science   32.0   Fail\n",
       "2     Kim   15      UK  Computer Science   30.0   Fail\n",
       "3    Dani   20   India               NaN    NaN    NaN"
      ],
      "text/html": "<div>\n<style scoped>\n    .dataframe tbody tr th:only-of-type {\n        vertical-align: middle;\n    }\n\n    .dataframe tbody tr th {\n        vertical-align: top;\n    }\n\n    .dataframe thead th {\n        text-align: right;\n    }\n</style>\n<table border=\"1\" class=\"dataframe\">\n  <thead>\n    <tr style=\"text-align: right;\">\n      <th></th>\n      <th>Name</th>\n      <th>Age</th>\n      <th>Country</th>\n      <th>Subject</th>\n      <th>Marks</th>\n      <th>Result</th>\n    </tr>\n    <tr>\n      <th>ID</th>\n      <th></th>\n      <th></th>\n      <th></th>\n      <th></th>\n      <th></th>\n      <th></th>\n    </tr>\n  </thead>\n  <tbody>\n    <tr>\n      <th>1</th>\n      <td>Joe</td>\n      <td>23</td>\n      <td>India</td>\n      <td>Math</td>\n      <td>90.0</td>\n      <td>Pass</td>\n    </tr>\n    <tr>\n      <th>1</th>\n      <td>Joe</td>\n      <td>23</td>\n      <td>India</td>\n      <td>Math</td>\n      <td>50.0</td>\n      <td>Pass</td>\n    </tr>\n    <tr>\n      <th>1</th>\n      <td>John</td>\n      <td>19</td>\n      <td>USA</td>\n      <td>Math</td>\n      <td>90.0</td>\n      <td>Pass</td>\n    </tr>\n    <tr>\n      <th>1</th>\n      <td>John</td>\n      <td>19</td>\n      <td>USA</td>\n      <td>Math</td>\n      <td>50.0</td>\n      <td>Pass</td>\n    </tr>\n    <tr>\n      <th>2</th>\n      <td>James</td>\n      <td>38</td>\n      <td>USA</td>\n      <td>Computer Science</td>\n      <td>32.0</td>\n      <td>Fail</td>\n    </tr>\n    <tr>\n      <th>2</th>\n      <td>James</td>\n      <td>38</td>\n      <td>USA</td>\n      <td>Computer Science</td>\n      <td>30.0</td>\n      <td>Fail</td>\n    </tr>\n    <tr>\n      <th>2</th>\n      <td>Kim</td>\n      <td>15</td>\n      <td>UK</td>\n      <td>Computer Science</td>\n      <td>32.0</td>\n      <td>Fail</td>\n    </tr>\n    <tr>\n      <th>2</th>\n      <td>Kim</td>\n      <td>15</td>\n      <td>UK</td>\n      <td>Computer Science</td>\n      <td>30.0</td>\n      <td>Fail</td>\n    </tr>\n    <tr>\n      <th>3</th>\n      <td>Dani</td>\n      <td>20</td>\n      <td>India</td>\n      <td>NaN</td>\n      <td>NaN</td>\n      <td>NaN</td>\n    </tr>\n  </tbody>\n</table>\n</div>"
     },
     "metadata": {},
     "execution_count": 24
    }
   ],
   "source": [
    "pd.merge(df_info,df_Marks,on='ID',how='left')"
   ]
  },
  {
   "cell_type": "code",
   "execution_count": 25,
   "metadata": {},
   "outputs": [],
   "source": [
    "pd.merge(df_info,df_Marks,on='ID',how='right')"
   ]
  }
 ]
}